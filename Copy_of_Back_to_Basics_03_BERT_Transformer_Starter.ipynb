{
  "nbformat": 4,
  "nbformat_minor": 0,
  "metadata": {
    "colab": {
      "name": "Copy of Back to Basics 03 - BERT Transformer - Starter.ipynb",
      "provenance": [],
      "collapsed_sections": [],
      "include_colab_link": true
    },
    "kernelspec": {
      "name": "python3",
      "display_name": "Python 3"
    },
    "language_info": {
      "name": "python"
    },
    "accelerator": "GPU",
    "widgets": {
      "application/vnd.jupyter.widget-state+json": {
        "e747b85e86a340c0870950ca01f48fab": {
          "model_module": "@jupyter-widgets/controls",
          "model_name": "HBoxModel",
          "model_module_version": "1.5.0",
          "state": {
            "_view_name": "HBoxView",
            "_dom_classes": [],
            "_model_name": "HBoxModel",
            "_view_module": "@jupyter-widgets/controls",
            "_model_module_version": "1.5.0",
            "_view_count": null,
            "_view_module_version": "1.5.0",
            "box_style": "",
            "layout": "IPY_MODEL_07c04d07f60e4273b7ec06e3817a783e",
            "_model_module": "@jupyter-widgets/controls",
            "children": [
              "IPY_MODEL_b44cdcf9403143d595f0d9e16ee98ac4",
              "IPY_MODEL_f9e275e46ec147d89281b399bf7a6778",
              "IPY_MODEL_dd8585ddf05743e99649e92cf9a3e23f"
            ]
          }
        },
        "07c04d07f60e4273b7ec06e3817a783e": {
          "model_module": "@jupyter-widgets/base",
          "model_name": "LayoutModel",
          "model_module_version": "1.2.0",
          "state": {
            "_view_name": "LayoutView",
            "grid_template_rows": null,
            "right": null,
            "justify_content": null,
            "_view_module": "@jupyter-widgets/base",
            "overflow": null,
            "_model_module_version": "1.2.0",
            "_view_count": null,
            "flex_flow": null,
            "width": null,
            "min_width": null,
            "border": null,
            "align_items": null,
            "bottom": null,
            "_model_module": "@jupyter-widgets/base",
            "top": null,
            "grid_column": null,
            "overflow_y": null,
            "overflow_x": null,
            "grid_auto_flow": null,
            "grid_area": null,
            "grid_template_columns": null,
            "flex": null,
            "_model_name": "LayoutModel",
            "justify_items": null,
            "grid_row": null,
            "max_height": null,
            "align_content": null,
            "visibility": null,
            "align_self": null,
            "height": null,
            "min_height": null,
            "padding": null,
            "grid_auto_rows": null,
            "grid_gap": null,
            "max_width": null,
            "order": null,
            "_view_module_version": "1.2.0",
            "grid_template_areas": null,
            "object_position": null,
            "object_fit": null,
            "grid_auto_columns": null,
            "margin": null,
            "display": null,
            "left": null
          }
        },
        "b44cdcf9403143d595f0d9e16ee98ac4": {
          "model_module": "@jupyter-widgets/controls",
          "model_name": "HTMLModel",
          "model_module_version": "1.5.0",
          "state": {
            "_view_name": "HTMLView",
            "style": "IPY_MODEL_ddce42d7fcf2469cb905ae06eb76d169",
            "_dom_classes": [],
            "description": "",
            "_model_name": "HTMLModel",
            "placeholder": "​",
            "_view_module": "@jupyter-widgets/controls",
            "_model_module_version": "1.5.0",
            "value": "Downloading: 100%",
            "_view_count": null,
            "_view_module_version": "1.5.0",
            "description_tooltip": null,
            "_model_module": "@jupyter-widgets/controls",
            "layout": "IPY_MODEL_1d17c3556a06425b99dfc7387c864680"
          }
        },
        "f9e275e46ec147d89281b399bf7a6778": {
          "model_module": "@jupyter-widgets/controls",
          "model_name": "FloatProgressModel",
          "model_module_version": "1.5.0",
          "state": {
            "_view_name": "ProgressView",
            "style": "IPY_MODEL_b7aa76197a1740cca262a1b654011c32",
            "_dom_classes": [],
            "description": "",
            "_model_name": "FloatProgressModel",
            "bar_style": "success",
            "max": 526681800,
            "_view_module": "@jupyter-widgets/controls",
            "_model_module_version": "1.5.0",
            "value": 526681800,
            "_view_count": null,
            "_view_module_version": "1.5.0",
            "orientation": "horizontal",
            "min": 0,
            "description_tooltip": null,
            "_model_module": "@jupyter-widgets/controls",
            "layout": "IPY_MODEL_71831af6cd9b46fd9a71ec3abe3874c5"
          }
        },
        "dd8585ddf05743e99649e92cf9a3e23f": {
          "model_module": "@jupyter-widgets/controls",
          "model_name": "HTMLModel",
          "model_module_version": "1.5.0",
          "state": {
            "_view_name": "HTMLView",
            "style": "IPY_MODEL_49c9e1988e33446ea53dcb460c93a2b1",
            "_dom_classes": [],
            "description": "",
            "_model_name": "HTMLModel",
            "placeholder": "​",
            "_view_module": "@jupyter-widgets/controls",
            "_model_module_version": "1.5.0",
            "value": " 502M/502M [00:16&lt;00:00, 31.3MB/s]",
            "_view_count": null,
            "_view_module_version": "1.5.0",
            "description_tooltip": null,
            "_model_module": "@jupyter-widgets/controls",
            "layout": "IPY_MODEL_1a9b5da650584ef6b247093033f26e35"
          }
        },
        "ddce42d7fcf2469cb905ae06eb76d169": {
          "model_module": "@jupyter-widgets/controls",
          "model_name": "DescriptionStyleModel",
          "model_module_version": "1.5.0",
          "state": {
            "_view_name": "StyleView",
            "_model_name": "DescriptionStyleModel",
            "description_width": "",
            "_view_module": "@jupyter-widgets/base",
            "_model_module_version": "1.5.0",
            "_view_count": null,
            "_view_module_version": "1.2.0",
            "_model_module": "@jupyter-widgets/controls"
          }
        },
        "1d17c3556a06425b99dfc7387c864680": {
          "model_module": "@jupyter-widgets/base",
          "model_name": "LayoutModel",
          "model_module_version": "1.2.0",
          "state": {
            "_view_name": "LayoutView",
            "grid_template_rows": null,
            "right": null,
            "justify_content": null,
            "_view_module": "@jupyter-widgets/base",
            "overflow": null,
            "_model_module_version": "1.2.0",
            "_view_count": null,
            "flex_flow": null,
            "width": null,
            "min_width": null,
            "border": null,
            "align_items": null,
            "bottom": null,
            "_model_module": "@jupyter-widgets/base",
            "top": null,
            "grid_column": null,
            "overflow_y": null,
            "overflow_x": null,
            "grid_auto_flow": null,
            "grid_area": null,
            "grid_template_columns": null,
            "flex": null,
            "_model_name": "LayoutModel",
            "justify_items": null,
            "grid_row": null,
            "max_height": null,
            "align_content": null,
            "visibility": null,
            "align_self": null,
            "height": null,
            "min_height": null,
            "padding": null,
            "grid_auto_rows": null,
            "grid_gap": null,
            "max_width": null,
            "order": null,
            "_view_module_version": "1.2.0",
            "grid_template_areas": null,
            "object_position": null,
            "object_fit": null,
            "grid_auto_columns": null,
            "margin": null,
            "display": null,
            "left": null
          }
        },
        "b7aa76197a1740cca262a1b654011c32": {
          "model_module": "@jupyter-widgets/controls",
          "model_name": "ProgressStyleModel",
          "model_module_version": "1.5.0",
          "state": {
            "_view_name": "StyleView",
            "_model_name": "ProgressStyleModel",
            "description_width": "",
            "_view_module": "@jupyter-widgets/base",
            "_model_module_version": "1.5.0",
            "_view_count": null,
            "_view_module_version": "1.2.0",
            "bar_color": null,
            "_model_module": "@jupyter-widgets/controls"
          }
        },
        "71831af6cd9b46fd9a71ec3abe3874c5": {
          "model_module": "@jupyter-widgets/base",
          "model_name": "LayoutModel",
          "model_module_version": "1.2.0",
          "state": {
            "_view_name": "LayoutView",
            "grid_template_rows": null,
            "right": null,
            "justify_content": null,
            "_view_module": "@jupyter-widgets/base",
            "overflow": null,
            "_model_module_version": "1.2.0",
            "_view_count": null,
            "flex_flow": null,
            "width": null,
            "min_width": null,
            "border": null,
            "align_items": null,
            "bottom": null,
            "_model_module": "@jupyter-widgets/base",
            "top": null,
            "grid_column": null,
            "overflow_y": null,
            "overflow_x": null,
            "grid_auto_flow": null,
            "grid_area": null,
            "grid_template_columns": null,
            "flex": null,
            "_model_name": "LayoutModel",
            "justify_items": null,
            "grid_row": null,
            "max_height": null,
            "align_content": null,
            "visibility": null,
            "align_self": null,
            "height": null,
            "min_height": null,
            "padding": null,
            "grid_auto_rows": null,
            "grid_gap": null,
            "max_width": null,
            "order": null,
            "_view_module_version": "1.2.0",
            "grid_template_areas": null,
            "object_position": null,
            "object_fit": null,
            "grid_auto_columns": null,
            "margin": null,
            "display": null,
            "left": null
          }
        },
        "49c9e1988e33446ea53dcb460c93a2b1": {
          "model_module": "@jupyter-widgets/controls",
          "model_name": "DescriptionStyleModel",
          "model_module_version": "1.5.0",
          "state": {
            "_view_name": "StyleView",
            "_model_name": "DescriptionStyleModel",
            "description_width": "",
            "_view_module": "@jupyter-widgets/base",
            "_model_module_version": "1.5.0",
            "_view_count": null,
            "_view_module_version": "1.2.0",
            "_model_module": "@jupyter-widgets/controls"
          }
        },
        "1a9b5da650584ef6b247093033f26e35": {
          "model_module": "@jupyter-widgets/base",
          "model_name": "LayoutModel",
          "model_module_version": "1.2.0",
          "state": {
            "_view_name": "LayoutView",
            "grid_template_rows": null,
            "right": null,
            "justify_content": null,
            "_view_module": "@jupyter-widgets/base",
            "overflow": null,
            "_model_module_version": "1.2.0",
            "_view_count": null,
            "flex_flow": null,
            "width": null,
            "min_width": null,
            "border": null,
            "align_items": null,
            "bottom": null,
            "_model_module": "@jupyter-widgets/base",
            "top": null,
            "grid_column": null,
            "overflow_y": null,
            "overflow_x": null,
            "grid_auto_flow": null,
            "grid_area": null,
            "grid_template_columns": null,
            "flex": null,
            "_model_name": "LayoutModel",
            "justify_items": null,
            "grid_row": null,
            "max_height": null,
            "align_content": null,
            "visibility": null,
            "align_self": null,
            "height": null,
            "min_height": null,
            "padding": null,
            "grid_auto_rows": null,
            "grid_gap": null,
            "max_width": null,
            "order": null,
            "_view_module_version": "1.2.0",
            "grid_template_areas": null,
            "object_position": null,
            "object_fit": null,
            "grid_auto_columns": null,
            "margin": null,
            "display": null,
            "left": null
          }
        }
      }
    }
  },
  "cells": [
    {
      "cell_type": "markdown",
      "metadata": {
        "id": "view-in-github",
        "colab_type": "text"
      },
      "source": [
        "<a href=\"https://colab.research.google.com/github/lianaling/ai-practical/blob/main/Copy_of_Back_to_Basics_03_BERT_Transformer_Starter.ipynb\" target=\"_parent\"><img src=\"https://colab.research.google.com/assets/colab-badge.svg\" alt=\"Open In Colab\"/></a>"
      ]
    },
    {
      "cell_type": "markdown",
      "metadata": {
        "id": "Ycss6qjFk2Zr"
      },
      "source": [
        "# Transformers with TensorFlow\n",
        "\n",
        "The original version of this notebook - https://colab.research.google.com/drive/1er3eOUILQ5MOB2Uzh1lntiDiK92DfvO4?usp=sharing\n",
        "\n"
      ]
    },
    {
      "cell_type": "code",
      "metadata": {
        "id": "PegFaL-dnHot",
        "colab": {
          "base_uri": "https://localhost:8080/"
        },
        "outputId": "61d7f278-f50b-41d3-fb62-1ed64debe8e3"
      },
      "source": [
        "!nvidia-smi -L"
      ],
      "execution_count": 1,
      "outputs": [
        {
          "output_type": "stream",
          "name": "stdout",
          "text": [
            "GPU 0: Tesla K80 (UUID: GPU-efb061fd-fb8c-fb7a-d39f-c5060c9f2fd9)\n"
          ]
        }
      ]
    },
    {
      "cell_type": "code",
      "metadata": {
        "id": "KGmBm2wukbW0",
        "colab": {
          "base_uri": "https://localhost:8080/"
        },
        "outputId": "ed0c3cef-581f-46a9-af87-a04c4bd70e27"
      },
      "source": [
        "!pip -q install transformers"
      ],
      "execution_count": 2,
      "outputs": [
        {
          "output_type": "stream",
          "name": "stdout",
          "text": [
            "\u001b[K     |████████████████████████████████| 3.4 MB 5.4 MB/s \n",
            "\u001b[K     |████████████████████████████████| 3.3 MB 39.4 MB/s \n",
            "\u001b[K     |████████████████████████████████| 596 kB 47.2 MB/s \n",
            "\u001b[K     |████████████████████████████████| 61 kB 425 kB/s \n",
            "\u001b[K     |████████████████████████████████| 895 kB 43.0 MB/s \n",
            "\u001b[?25h"
          ]
        }
      ]
    },
    {
      "cell_type": "code",
      "metadata": {
        "id": "KwYZuVBrBvF4"
      },
      "source": [
        "# 2 Classes \n",
        "!wget -q https://www.dropbox.com/s/ma7aik3z7dbj4gg/meet_reviews_03.csv\n",
        "\n",
        "# 5 class based on the 5 stars - try later\n",
        "# !wget -q https://www.dropbox.com/s/gxjn9yqa6nd3ob1/meet_reviews_02.csv"
      ],
      "execution_count": 3,
      "outputs": []
    },
    {
      "cell_type": "markdown",
      "metadata": {
        "id": "FXEqd69S0ASV"
      },
      "source": [
        "2 Main parts:\n",
        "- Tokenizer \n",
        "- Model"
      ]
    },
    {
      "cell_type": "code",
      "metadata": {
        "id": "kvXClO4lkkUG"
      },
      "source": [
        "# imports \n",
        "import tensorflow as tf\n",
        "import pandas as pd\n",
        "import numpy as np\n",
        "\n",
        "from transformers import AutoTokenizer, TFAutoModelForSequenceClassification\n",
        "\n"
      ],
      "execution_count": 4,
      "outputs": []
    },
    {
      "cell_type": "code",
      "metadata": {
        "id": "WjLv8YIVAIZe",
        "colab": {
          "base_uri": "https://localhost:8080/"
        },
        "outputId": "46bfffc6-8ab5-4a95-a3f4-017c44e83cd5"
      },
      "source": [
        "ls"
      ],
      "execution_count": 5,
      "outputs": [
        {
          "output_type": "stream",
          "name": "stdout",
          "text": [
            "meet_reviews_03.csv  \u001b[0m\u001b[01;34msample_data\u001b[0m/\n"
          ]
        }
      ]
    },
    {
      "cell_type": "markdown",
      "metadata": {
        "id": "5YtIA3xpNtKd"
      },
      "source": [
        "## Load up some App Reviews"
      ]
    },
    {
      "cell_type": "code",
      "metadata": {
        "id": "oaMIG6SyCdHp"
      },
      "source": [
        "# load data into a dataframe\n",
        "df = pd.read_csv('meet_reviews_03.csv', encoding='utf-8', error_bad_lines=False)"
      ],
      "execution_count": 6,
      "outputs": []
    },
    {
      "cell_type": "code",
      "metadata": {
        "id": "2ZNYZ89IgRjm",
        "colab": {
          "base_uri": "https://localhost:8080/"
        },
        "outputId": "73c0f52b-9447-408d-bca5-c9c90581743f"
      },
      "source": [
        "# lets look at the shape of the data\n",
        "df.shape"
      ],
      "execution_count": 7,
      "outputs": [
        {
          "output_type": "execute_result",
          "data": {
            "text/plain": [
              "(3898, 3)"
            ]
          },
          "metadata": {},
          "execution_count": 7
        }
      ]
    },
    {
      "cell_type": "code",
      "metadata": {
        "id": "VqHT69spSpCb",
        "colab": {
          "base_uri": "https://localhost:8080/",
          "height": 203
        },
        "outputId": "4c45a613-380b-47df-f2af-c9044fe771bb"
      },
      "source": [
        "\n",
        "df.head()"
      ],
      "execution_count": 8,
      "outputs": [
        {
          "output_type": "execute_result",
          "data": {
            "text/html": [
              "<div>\n",
              "<style scoped>\n",
              "    .dataframe tbody tr th:only-of-type {\n",
              "        vertical-align: middle;\n",
              "    }\n",
              "\n",
              "    .dataframe tbody tr th {\n",
              "        vertical-align: top;\n",
              "    }\n",
              "\n",
              "    .dataframe thead th {\n",
              "        text-align: right;\n",
              "    }\n",
              "</style>\n",
              "<table border=\"1\" class=\"dataframe\">\n",
              "  <thead>\n",
              "    <tr style=\"text-align: right;\">\n",
              "      <th></th>\n",
              "      <th>Unnamed: 0</th>\n",
              "      <th>content</th>\n",
              "      <th>score</th>\n",
              "    </tr>\n",
              "  </thead>\n",
              "  <tbody>\n",
              "    <tr>\n",
              "      <th>0</th>\n",
              "      <td>0</td>\n",
              "      <td>Firstly i like this app very so much. But afte...</td>\n",
              "      <td>1</td>\n",
              "    </tr>\n",
              "    <tr>\n",
              "      <th>1</th>\n",
              "      <td>1</td>\n",
              "      <td>The reason behind giving only one star is the ...</td>\n",
              "      <td>1</td>\n",
              "    </tr>\n",
              "    <tr>\n",
              "      <th>2</th>\n",
              "      <td>2</td>\n",
              "      <td>Although this app is good but still i hate it....</td>\n",
              "      <td>1</td>\n",
              "    </tr>\n",
              "    <tr>\n",
              "      <th>3</th>\n",
              "      <td>3</td>\n",
              "      <td>Can't access any settings within this app from...</td>\n",
              "      <td>1</td>\n",
              "    </tr>\n",
              "    <tr>\n",
              "      <th>4</th>\n",
              "      <td>4</td>\n",
              "      <td>I have online classes I can't hear it nicely i...</td>\n",
              "      <td>1</td>\n",
              "    </tr>\n",
              "  </tbody>\n",
              "</table>\n",
              "</div>"
            ],
            "text/plain": [
              "   Unnamed: 0                                            content  score\n",
              "0           0  Firstly i like this app very so much. But afte...      1\n",
              "1           1  The reason behind giving only one star is the ...      1\n",
              "2           2  Although this app is good but still i hate it....      1\n",
              "3           3  Can't access any settings within this app from...      1\n",
              "4           4  I have online classes I can't hear it nicely i...      1"
            ]
          },
          "metadata": {},
          "execution_count": 8
        }
      ]
    },
    {
      "cell_type": "code",
      "metadata": {
        "id": "t-XpXgIBSlQk",
        "colab": {
          "base_uri": "https://localhost:8080/",
          "height": 203
        },
        "outputId": "41a4126a-1632-4b7e-d85b-45f5f405275a"
      },
      "source": [
        "df.tail()"
      ],
      "execution_count": 9,
      "outputs": [
        {
          "output_type": "execute_result",
          "data": {
            "text/html": [
              "<div>\n",
              "<style scoped>\n",
              "    .dataframe tbody tr th:only-of-type {\n",
              "        vertical-align: middle;\n",
              "    }\n",
              "\n",
              "    .dataframe tbody tr th {\n",
              "        vertical-align: top;\n",
              "    }\n",
              "\n",
              "    .dataframe thead th {\n",
              "        text-align: right;\n",
              "    }\n",
              "</style>\n",
              "<table border=\"1\" class=\"dataframe\">\n",
              "  <thead>\n",
              "    <tr style=\"text-align: right;\">\n",
              "      <th></th>\n",
              "      <th>Unnamed: 0</th>\n",
              "      <th>content</th>\n",
              "      <th>score</th>\n",
              "    </tr>\n",
              "  </thead>\n",
              "  <tbody>\n",
              "    <tr>\n",
              "      <th>3893</th>\n",
              "      <td>5293</td>\n",
              "      <td>Nice app</td>\n",
              "      <td>5</td>\n",
              "    </tr>\n",
              "    <tr>\n",
              "      <th>3894</th>\n",
              "      <td>5294</td>\n",
              "      <td>😡😡😡😡😡.</td>\n",
              "      <td>5</td>\n",
              "    </tr>\n",
              "    <tr>\n",
              "      <th>3895</th>\n",
              "      <td>5295</td>\n",
              "      <td>Thank you for this app</td>\n",
              "      <td>5</td>\n",
              "    </tr>\n",
              "    <tr>\n",
              "      <th>3896</th>\n",
              "      <td>5296</td>\n",
              "      <td>👌</td>\n",
              "      <td>5</td>\n",
              "    </tr>\n",
              "    <tr>\n",
              "      <th>3897</th>\n",
              "      <td>5297</td>\n",
              "      <td>Wow</td>\n",
              "      <td>5</td>\n",
              "    </tr>\n",
              "  </tbody>\n",
              "</table>\n",
              "</div>"
            ],
            "text/plain": [
              "      Unnamed: 0                 content  score\n",
              "3893        5293                Nice app      5\n",
              "3894        5294                  😡😡😡😡😡.      5\n",
              "3895        5295  Thank you for this app      5\n",
              "3896        5296                       👌      5\n",
              "3897        5297                     Wow      5"
            ]
          },
          "metadata": {},
          "execution_count": 9
        }
      ]
    },
    {
      "cell_type": "code",
      "metadata": {
        "id": "5MeV_URdTBhm",
        "colab": {
          "base_uri": "https://localhost:8080/"
        },
        "outputId": "f3a5de3b-c5ba-43d3-bcf9-f0ab62a0bbed"
      },
      "source": [
        "df['score'].unique()"
      ],
      "execution_count": 10,
      "outputs": [
        {
          "output_type": "execute_result",
          "data": {
            "text/plain": [
              "array([1, 5])"
            ]
          },
          "metadata": {},
          "execution_count": 10
        }
      ]
    },
    {
      "cell_type": "code",
      "metadata": {
        "id": "0BfYqbxKDWYA"
      },
      "source": [
        "# Shuffle\n",
        "df = df.sample(frac=1).reset_index(drop=True)\n",
        "\n",
        "train_df = df[:3600][['content','score']]\n",
        "valid_df = df[3600:][['content','score']]\n"
      ],
      "execution_count": 11,
      "outputs": []
    },
    {
      "cell_type": "code",
      "metadata": {
        "id": "-A5hGL0GA658",
        "colab": {
          "base_uri": "https://localhost:8080/"
        },
        "outputId": "82b006f2-1880-4b23-d2e6-2845ec8b2595"
      },
      "source": [
        "train_df.shape"
      ],
      "execution_count": 12,
      "outputs": [
        {
          "output_type": "execute_result",
          "data": {
            "text/plain": [
              "(3600, 2)"
            ]
          },
          "metadata": {},
          "execution_count": 12
        }
      ]
    },
    {
      "cell_type": "markdown",
      "metadata": {
        "id": "w3vcY32NS9wV"
      },
      "source": [
        "## Plot out some info"
      ]
    },
    {
      "cell_type": "code",
      "metadata": {
        "id": "U2S2-YPZDl94",
        "colab": {
          "base_uri": "https://localhost:8080/",
          "height": 281
        },
        "outputId": "c9af34c2-799b-4ab1-9426-6cac62866556"
      },
      "source": [
        "# review lengths\n",
        "df['length'] = df['content'].apply(lambda x: len(x.split(' ')))\n",
        "\n",
        "df.hist(\"length\", bins=10);"
      ],
      "execution_count": 13,
      "outputs": [
        {
          "output_type": "display_data",
          "data": {
            "image/png": "[encoded data removed]",
            "text/plain": [
              "<Figure size 432x288 with 1 Axes>"
            ]
          },
          "metadata": {
            "needs_background": "light"
          }
        }
      ]
    },
    {
      "cell_type": "code",
      "metadata": {
        "id": "vG97WX1-GuPz",
        "colab": {
          "base_uri": "https://localhost:8080/",
          "height": 280
        },
        "outputId": "69fa1b05-35cb-475e-df48-8fe8b12caa0a"
      },
      "source": [
        "# checking amounts for each class\n",
        "df['score'].value_counts().plot(kind='bar')"
      ],
      "execution_count": 14,
      "outputs": [
        {
          "output_type": "execute_result",
          "data": {
            "text/plain": [
              "<matplotlib.axes._subplots.AxesSubplot at 0x7f4a483f4f10>"
            ]
          },
          "metadata": {},
          "execution_count": 14
        },
        {
          "output_type": "display_data",
          "data": {
            "image/png": "[encoded data removed]",
            "text/plain": [
              "<Figure size 432x288 with 1 Axes>"
            ]
          },
          "metadata": {
            "needs_background": "light"
          }
        }
      ]
    },
    {
      "cell_type": "markdown",
      "metadata": {
        "id": "bpX8giAOEZSa"
      },
      "source": [
        "## Load the Model and Tokenizer\n",
        "\n",
        "1."
      ]
    },
    {
      "cell_type": "code",
      "metadata": {
        "id": "JrfHFoEokyzt",
        "colab": {
          "base_uri": "https://localhost:8080/",
          "height": 119,
          "referenced_widgets": [
            "e747b85e86a340c0870950ca01f48fab",
            "07c04d07f60e4273b7ec06e3817a783e",
            "b44cdcf9403143d595f0d9e16ee98ac4",
            "f9e275e46ec147d89281b399bf7a6778",
            "dd8585ddf05743e99649e92cf9a3e23f",
            "ddce42d7fcf2469cb905ae06eb76d169",
            "1d17c3556a06425b99dfc7387c864680",
            "b7aa76197a1740cca262a1b654011c32",
            "71831af6cd9b46fd9a71ec3abe3874c5",
            "49c9e1988e33446ea53dcb460c93a2b1",
            "1a9b5da650584ef6b247093033f26e35"
          ]
        },
        "outputId": "b6eee572-e652-433e-a293-1feb2bb4dc18"
      },
      "source": [
        "# What model will we use?\n",
        "model_name = 'bert-base-cased' # cased means handle upper and lower case. uncased means all data will be converted into lower case\n",
        "\n",
        "# Load a tokenizer\n",
        "tokenizer = AutoTokenizer.from_pretrained(model_name)\n",
        "\n",
        "\n",
        "# Load the model\n",
        "model = TFAutoModelForSequenceClassification.from_pretrained(model_name, num_labels=2) # number of output neurons"
      ],
      "execution_count": 17,
      "outputs": [
        {
          "output_type": "display_data",
          "data": {
            "application/vnd.jupyter.widget-view+json": {
              "model_id": "e747b85e86a340c0870950ca01f48fab",
              "version_minor": 0,
              "version_major": 2
            },
            "text/plain": [
              "Downloading:   0%|          | 0.00/502M [00:00<?, ?B/s]"
            ]
          },
          "metadata": {}
        },
        {
          "output_type": "stream",
          "name": "stderr",
          "text": [
            "All model checkpoint layers were used when initializing TFBertForSequenceClassification.\n",
            "\n",
            "Some layers of TFBertForSequenceClassification were not initialized from the model checkpoint at bert-base-cased and are newly initialized: ['classifier']\n",
            "You should probably TRAIN this model on a down-stream task to be able to use it for predictions and inference.\n"
          ]
        }
      ]
    },
    {
      "cell_type": "code",
      "source": [
        "tokenizer.tokenize('Harry Potter was not an unfriendly wizard who was created by J.K.Rowling')"
      ],
      "metadata": {
        "colab": {
          "base_uri": "https://localhost:8080/"
        },
        "id": "XFVZYgxLXvh5",
        "outputId": "318a4036-d62e-4abb-f028-4050fbc822a3"
      },
      "execution_count": 19,
      "outputs": [
        {
          "output_type": "execute_result",
          "data": {
            "text/plain": [
              "['Harry',\n",
              " 'Potter',\n",
              " 'was',\n",
              " 'not',\n",
              " 'an',\n",
              " 'un',\n",
              " '##friend',\n",
              " '##ly',\n",
              " 'wizard',\n",
              " 'who',\n",
              " 'was',\n",
              " 'created',\n",
              " 'by',\n",
              " 'J',\n",
              " '.',\n",
              " 'K',\n",
              " '.',\n",
              " 'Row',\n",
              " '##ling']"
            ]
          },
          "metadata": {},
          "execution_count": 19
        }
      ]
    },
    {
      "cell_type": "markdown",
      "metadata": {
        "id": "duLtzcb68mRs"
      },
      "source": [
        "#### Preparing the text\n",
        "\n",
        "We need to get the text into a format so that we can pass it into the tokenizer"
      ]
    },
    {
      "cell_type": "code",
      "metadata": {
        "id": "k_sX6aygFEGw",
        "colab": {
          "base_uri": "https://localhost:8080/"
        },
        "outputId": "d2fb9ea7-707c-410c-9af1-24edc86165be"
      },
      "source": [
        "train_texts = train_df['content'].tolist()\n",
        "valid_texts = valid_df['content'].tolist()\n",
        "\n",
        "print(len(train_texts))\n",
        "train_texts[:5]"
      ],
      "execution_count": 20,
      "outputs": [
        {
          "output_type": "stream",
          "name": "stdout",
          "text": [
            "3600\n"
          ]
        },
        {
          "output_type": "execute_result",
          "data": {
            "text/plain": [
              "['Why suddenly the split screen in mobile is gone??...If we press the home button it goes to split in the screen..but suddenly i am not getting it',\n",
              " 'This is a very good app for meeting purposes but the only problem I face that , the meeting cuts suddenly 😭...',\n",
              " 'Please give more options',\n",
              " 'Google Meet is better than zoom. It is now stable & easier to set up. No 45 min interruption to rejoin.',\n",
              " \"I've been using this app from last two years and it's overall a very easy, wonderful and flexible app to use. I experienced very few problems at the start but clearing its cache and restarting it always helped and after that it never happened again. It's a really convenient and useful app for students who are attending online classes like us. Thank you Google for such an amazing app!\"]"
            ]
          },
          "metadata": {},
          "execution_count": 20
        }
      ]
    },
    {
      "cell_type": "markdown",
      "metadata": {
        "id": "hI7diHrgVNS9"
      },
      "source": [
        "## Tokenizing, Padding and Truncating the text"
      ]
    },
    {
      "cell_type": "code",
      "metadata": {
        "id": "fmw0VX6jky4W"
      },
      "source": [
        "# Pad the tokenizer outputs to the same length for all samples\n",
        "\n",
        "# tokenize the training data\n",
        "train_tokens = tokenizer(train_texts, \n",
        "                         max_length=128, \n",
        "                         truncation=True, \n",
        "                         padding='max_length', \n",
        "                         add_special_tokens=True,\n",
        "                         return_token_type_ids=False,\n",
        "                         return_tensors='tf')\n",
        "\n",
        "\n",
        "# tokenize the validation data\n",
        "valid_tokens = tokenizer(valid_texts, \n",
        "                         max_length=128, \n",
        "                         truncation=True, \n",
        "                         padding='max_length', \n",
        "                         add_special_tokens=True,\n",
        "                         return_token_type_ids=False,\n",
        "                         return_tensors='tf')\n",
        "\n"
      ],
      "execution_count": 21,
      "outputs": []
    },
    {
      "cell_type": "code",
      "metadata": {
        "id": "n8d07WuqE0jD",
        "colab": {
          "base_uri": "https://localhost:8080/"
        },
        "outputId": "05331cd8-d488-481b-ff42-0073a328a8a3"
      },
      "source": [
        "# Lets look at the tokens\n",
        "tokenizer.special_tokens_map, tokenizer.cls_token_id, tokenizer.pad_token_id"
      ],
      "execution_count": 24,
      "outputs": [
        {
          "output_type": "execute_result",
          "data": {
            "text/plain": [
              "({'cls_token': '[CLS]',\n",
              "  'mask_token': '[MASK]',\n",
              "  'pad_token': '[PAD]',\n",
              "  'sep_token': '[SEP]',\n",
              "  'unk_token': '[UNK]'},\n",
              " 101,\n",
              " 0)"
            ]
          },
          "metadata": {},
          "execution_count": 24
        }
      ]
    },
    {
      "cell_type": "code",
      "metadata": {
        "id": "06LhaL_pI73c",
        "colab": {
          "base_uri": "https://localhost:8080/"
        },
        "outputId": "bcd1a9c7-6720-47e1-bcd0-f634d7fc5d52"
      },
      "source": [
        "# what did the tokenizer make?\n",
        "train_tokens.keys()"
      ],
      "execution_count": 25,
      "outputs": [
        {
          "output_type": "execute_result",
          "data": {
            "text/plain": [
              "dict_keys(['input_ids', 'attention_mask'])"
            ]
          },
          "metadata": {},
          "execution_count": 25
        }
      ]
    },
    {
      "cell_type": "code",
      "metadata": {
        "id": "0ydhWZdx93vq",
        "colab": {
          "base_uri": "https://localhost:8080/"
        },
        "outputId": "c108e660-9118-4b8b-deda-4c28e3ae6c9d"
      },
      "source": [
        "# input_ids \n",
        "train_tokens['input_ids'][0]"
      ],
      "execution_count": 26,
      "outputs": [
        {
          "output_type": "execute_result",
          "data": {
            "text/plain": [
              "<tf.Tensor: shape=(128,), dtype=int32, numpy=\n",
              "array([ 101, 2009, 2840, 1103, 3325, 3251, 1107, 5093, 1110, 2065,  136,\n",
              "        136,  119,  119,  119, 1409, 1195, 3181, 1103, 1313, 6324, 1122,\n",
              "       2947, 1106, 3325, 1107, 1103, 3251,  119,  119, 1133, 2840,  178,\n",
              "       1821, 1136, 2033, 1122,  102,    0,    0,    0,    0,    0,    0,\n",
              "          0,    0,    0,    0,    0,    0,    0,    0,    0,    0,    0,\n",
              "          0,    0,    0,    0,    0,    0,    0,    0,    0,    0,    0,\n",
              "          0,    0,    0,    0,    0,    0,    0,    0,    0,    0,    0,\n",
              "          0,    0,    0,    0,    0,    0,    0,    0,    0,    0,    0,\n",
              "          0,    0,    0,    0,    0,    0,    0,    0,    0,    0,    0,\n",
              "          0,    0,    0,    0,    0,    0,    0,    0,    0,    0,    0,\n",
              "          0,    0,    0,    0,    0,    0,    0,    0,    0,    0,    0,\n",
              "          0,    0,    0,    0,    0,    0,    0], dtype=int32)>"
            ]
          },
          "metadata": {},
          "execution_count": 26
        }
      ]
    },
    {
      "cell_type": "code",
      "metadata": {
        "id": "qaMZz3h2-EID",
        "colab": {
          "base_uri": "https://localhost:8080/"
        },
        "outputId": "af24ee70-7478-4bfa-f08f-c88e331a9c05"
      },
      "source": [
        "# Attention masks\n",
        "train_tokens['attention_mask'][0]"
      ],
      "execution_count": 27,
      "outputs": [
        {
          "output_type": "execute_result",
          "data": {
            "text/plain": [
              "<tf.Tensor: shape=(128,), dtype=int32, numpy=\n",
              "array([1, 1, 1, 1, 1, 1, 1, 1, 1, 1, 1, 1, 1, 1, 1, 1, 1, 1, 1, 1, 1, 1,\n",
              "       1, 1, 1, 1, 1, 1, 1, 1, 1, 1, 1, 1, 1, 1, 1, 1, 0, 0, 0, 0, 0, 0,\n",
              "       0, 0, 0, 0, 0, 0, 0, 0, 0, 0, 0, 0, 0, 0, 0, 0, 0, 0, 0, 0, 0, 0,\n",
              "       0, 0, 0, 0, 0, 0, 0, 0, 0, 0, 0, 0, 0, 0, 0, 0, 0, 0, 0, 0, 0, 0,\n",
              "       0, 0, 0, 0, 0, 0, 0, 0, 0, 0, 0, 0, 0, 0, 0, 0, 0, 0, 0, 0, 0, 0,\n",
              "       0, 0, 0, 0, 0, 0, 0, 0, 0, 0, 0, 0, 0, 0, 0, 0, 0, 0], dtype=int32)>"
            ]
          },
          "metadata": {},
          "execution_count": 27
        }
      ]
    },
    {
      "cell_type": "markdown",
      "metadata": {
        "id": "0pl8jtPa8i8V"
      },
      "source": [
        "### Creating the Labels"
      ]
    },
    {
      "cell_type": "code",
      "metadata": {
        "id": "Q2-C3WGeFae8",
        "colab": {
          "base_uri": "https://localhost:8080/"
        },
        "outputId": "87db5848-4f29-4b10-f732-f5b5d30447f9"
      },
      "source": [
        "# map the labels \n",
        "label_map = {1: 0, 5: 1}\n",
        "label_map"
      ],
      "execution_count": 29,
      "outputs": [
        {
          "output_type": "execute_result",
          "data": {
            "text/plain": [
              "{1: 0, 5: 1}"
            ]
          },
          "metadata": {},
          "execution_count": 29
        }
      ]
    },
    {
      "cell_type": "code",
      "metadata": {
        "id": "KLe511n0IMFd"
      },
      "source": [
        "# Map the labels to our dictionary\n",
        "train_labels = train_df['score'].map(label_map).values\n",
        "valid_labels = valid_df['score'].map(label_map).values"
      ],
      "execution_count": 30,
      "outputs": []
    },
    {
      "cell_type": "code",
      "metadata": {
        "id": "nigpCoOAGGBa",
        "colab": {
          "base_uri": "https://localhost:8080/"
        },
        "outputId": "959c21ad-0ccc-4b29-9da8-6625cd5a94c9"
      },
      "source": [
        "# Lets check that \n",
        "row = 8\n",
        "\n",
        "train_df['score'].iloc[row], train_labels[row]"
      ],
      "execution_count": 32,
      "outputs": [
        {
          "output_type": "execute_result",
          "data": {
            "text/plain": [
              "(1, 0)"
            ]
          },
          "metadata": {},
          "execution_count": 32
        }
      ]
    },
    {
      "cell_type": "markdown",
      "metadata": {
        "id": "NqM4s1Mv9XTb"
      },
      "source": [
        "## Setting up the model"
      ]
    },
    {
      "cell_type": "code",
      "metadata": {
        "id": "8oivCP6wlE63"
      },
      "source": [
        "# optimizer\n",
        "opt = tf.keras.optimizers.Adam(learning_rate=5e-5, epsilon=1e-8)"
      ],
      "execution_count": 35,
      "outputs": []
    },
    {
      "cell_type": "code",
      "metadata": {
        "id": "0mmWNdudlIjq"
      },
      "source": [
        "#loss\n",
        "loss = tf.keras.losses.SparseCategoricalCrossentropy(from_logits=True) # take in raw numbers of 0 and 1 and find one hot encoders because this model doesn't have a softmax layer\n",
        "# from_logits=True means the output needs to be softmaxed\n",
        "# compile the model\n",
        "model.compile(optimizer=opt,\n",
        "              loss=loss,\n",
        "              metrics=['accuracy']\n",
        "              )\n"
      ],
      "execution_count": 36,
      "outputs": []
    },
    {
      "cell_type": "code",
      "metadata": {
        "id": "2Zm3ojnOlqky",
        "colab": {
          "base_uri": "https://localhost:8080/"
        },
        "outputId": "8b88636e-89e0-4276-f21d-4d77ecf1ce4c"
      },
      "source": [
        "# lets look at the model\n",
        "model.summary()"
      ],
      "execution_count": 37,
      "outputs": [
        {
          "output_type": "stream",
          "name": "stdout",
          "text": [
            "Model: \"tf_bert_for_sequence_classification\"\n",
            "_________________________________________________________________\n",
            " Layer (type)                Output Shape              Param #   \n",
            "=================================================================\n",
            " bert (TFBertMainLayer)      multiple                  108310272 \n",
            "                                                                 \n",
            " dropout_37 (Dropout)        multiple                  0         \n",
            "                                                                 \n",
            " classifier (Dense)          multiple                  1538      \n",
            "                                                                 \n",
            "=================================================================\n",
            "Total params: 108,311,810\n",
            "Trainable params: 108,311,810\n",
            "Non-trainable params: 0\n",
            "_________________________________________________________________\n"
          ]
        }
      ]
    },
    {
      "cell_type": "code",
      "metadata": {
        "id": "Ze69mgR-EFbO"
      },
      "source": [
        "# lets freeze the bert layer\n",
        "model.layers[0].trainable = False # don't mess with the trained layers (many many layers hidden in one)"
      ],
      "execution_count": 38,
      "outputs": []
    },
    {
      "cell_type": "code",
      "metadata": {
        "id": "CxNBqOi9EerX",
        "colab": {
          "base_uri": "https://localhost:8080/"
        },
        "outputId": "9d52402a-bb68-4479-8fed-abacf09e396c"
      },
      "source": [
        "# lets look at the model again\n",
        "model.summary()"
      ],
      "execution_count": 39,
      "outputs": [
        {
          "output_type": "stream",
          "name": "stdout",
          "text": [
            "Model: \"tf_bert_for_sequence_classification\"\n",
            "_________________________________________________________________\n",
            " Layer (type)                Output Shape              Param #   \n",
            "=================================================================\n",
            " bert (TFBertMainLayer)      multiple                  108310272 \n",
            "                                                                 \n",
            " dropout_37 (Dropout)        multiple                  0         \n",
            "                                                                 \n",
            " classifier (Dense)          multiple                  1538      \n",
            "                                                                 \n",
            "=================================================================\n",
            "Total params: 108,311,810\n",
            "Trainable params: 1,538\n",
            "Non-trainable params: 108,310,272\n",
            "_________________________________________________________________\n"
          ]
        }
      ]
    },
    {
      "cell_type": "markdown",
      "metadata": {
        "id": "m2JfbBfWq0ag"
      },
      "source": [
        "### Training"
      ]
    },
    {
      "cell_type": "code",
      "metadata": {
        "id": "gCxCePpBktOf",
        "colab": {
          "base_uri": "https://localhost:8080/",
          "height": 140
        },
        "outputId": "96f5eefc-663e-4dc3-f510-967b92e7a5d2"
      },
      "source": [
        "# train the model\n",
        "model.fit(dict(train_tokens), train_labels, epochs=3, batch_size=16, validation_data=(dict(valid_tokens), valid_labels), verbose=1) # bigger model, smaller batches"
      ],
      "execution_count": 40,
      "outputs": [
        {
          "output_type": "stream",
          "name": "stdout",
          "text": [
            "Epoch 1/3\n",
            "225/225 [==============================] - 266s 1s/step - loss: 0.5472 - accuracy: 0.7283 - val_loss: 0.4360 - val_accuracy: 0.8154\n",
            "Epoch 2/3\n",
            "225/225 [==============================] - 233s 1s/step - loss: 0.4278 - accuracy: 0.8211 - val_loss: 0.4534 - val_accuracy: 0.8054\n",
            "Epoch 3/3\n",
            "225/225 [==============================] - 232s 1s/step - loss: 0.3074 - accuracy: 0.8856 - val_loss: 0.4902 - val_accuracy: 0.8087\n"
          ]
        },
        {
          "output_type": "execute_result",
          "data": {
            "text/plain": [
              "<keras.callbacks.History at 0x7f49ca8e4c10>"
            ]
          },
          "metadata": {},
          "execution_count": 40
        }
      ]
    },
    {
      "cell_type": "code",
      "source": [
        "model.evaluate(dict(valid_tokens), valid_labels)"
      ],
      "metadata": {
        "colab": {
          "base_uri": "https://localhost:8080/"
        },
        "id": "1YdYDFLydzEf",
        "outputId": "2e95375b-ee2a-411f-a86e-4ff5b45878fb"
      },
      "execution_count": 42,
      "outputs": [
        {
          "output_type": "stream",
          "name": "stdout",
          "text": [
            "10/10 [==============================] - 6s 627ms/step - loss: 0.4902 - accuracy: 0.8087\n"
          ]
        },
        {
          "output_type": "execute_result",
          "data": {
            "text/plain": [
              "[0.49016299843788147, 0.8087248206138611]"
            ]
          },
          "metadata": {},
          "execution_count": 42
        }
      ]
    },
    {
      "cell_type": "markdown",
      "metadata": {
        "id": "uDduZr5oMcXe"
      },
      "source": [
        "## Predictions"
      ]
    },
    {
      "cell_type": "code",
      "metadata": {
        "id": "v2ZmsDQp7x3e"
      },
      "source": [
        "review = 'This app is pretty cool and has lots of good features'\n",
        "# review = 'This app is pretty bad and has lots of awful features'\n",
        "\n",
        "# review = \"I really want to like this app but I can't for so many reasons\""
      ],
      "execution_count": 43,
      "outputs": []
    },
    {
      "cell_type": "code",
      "metadata": {
        "id": "jv0iSykd9dJK"
      },
      "source": [
        ""
      ],
      "execution_count": null,
      "outputs": []
    },
    {
      "cell_type": "code",
      "metadata": {
        "id": "697R9ztn9dMD",
        "colab": {
          "base_uri": "https://localhost:8080/"
        },
        "outputId": "a505ea44-7d04-4ad8-d731-fd2b38c74768"
      },
      "source": [
        "review_tokens = tokenizer([review],\n",
        "                         max_length=128, \n",
        "                         truncation=True, \n",
        "                         padding='max_length', \n",
        "                         add_special_tokens=True,\n",
        "                         return_token_type_ids=False,\n",
        "                         return_tensors='tf')\n",
        "\n",
        "review_tokens"
      ],
      "execution_count": 45,
      "outputs": [
        {
          "output_type": "execute_result",
          "data": {
            "text/plain": [
              "{'input_ids': <tf.Tensor: shape=(1, 128), dtype=int32, numpy=\n",
              "array([[  101,  1188, 12647,  1110,  2785,  4348,  1105,  1144,  7424,\n",
              "         1104,  1363,  1956,   102,     0,     0,     0,     0,     0,\n",
              "            0,     0,     0,     0,     0,     0,     0,     0,     0,\n",
              "            0,     0,     0,     0,     0,     0,     0,     0,     0,\n",
              "            0,     0,     0,     0,     0,     0,     0,     0,     0,\n",
              "            0,     0,     0,     0,     0,     0,     0,     0,     0,\n",
              "            0,     0,     0,     0,     0,     0,     0,     0,     0,\n",
              "            0,     0,     0,     0,     0,     0,     0,     0,     0,\n",
              "            0,     0,     0,     0,     0,     0,     0,     0,     0,\n",
              "            0,     0,     0,     0,     0,     0,     0,     0,     0,\n",
              "            0,     0,     0,     0,     0,     0,     0,     0,     0,\n",
              "            0,     0,     0,     0,     0,     0,     0,     0,     0,\n",
              "            0,     0,     0,     0,     0,     0,     0,     0,     0,\n",
              "            0,     0,     0,     0,     0,     0,     0,     0,     0,\n",
              "            0,     0]], dtype=int32)>, 'attention_mask': <tf.Tensor: shape=(1, 128), dtype=int32, numpy=\n",
              "array([[1, 1, 1, 1, 1, 1, 1, 1, 1, 1, 1, 1, 1, 0, 0, 0, 0, 0, 0, 0, 0, 0,\n",
              "        0, 0, 0, 0, 0, 0, 0, 0, 0, 0, 0, 0, 0, 0, 0, 0, 0, 0, 0, 0, 0, 0,\n",
              "        0, 0, 0, 0, 0, 0, 0, 0, 0, 0, 0, 0, 0, 0, 0, 0, 0, 0, 0, 0, 0, 0,\n",
              "        0, 0, 0, 0, 0, 0, 0, 0, 0, 0, 0, 0, 0, 0, 0, 0, 0, 0, 0, 0, 0, 0,\n",
              "        0, 0, 0, 0, 0, 0, 0, 0, 0, 0, 0, 0, 0, 0, 0, 0, 0, 0, 0, 0, 0, 0,\n",
              "        0, 0, 0, 0, 0, 0, 0, 0, 0, 0, 0, 0, 0, 0, 0, 0, 0, 0]],\n",
              "      dtype=int32)>}"
            ]
          },
          "metadata": {},
          "execution_count": 45
        }
      ]
    },
    {
      "cell_type": "code",
      "metadata": {
        "id": "XrZ-iRYU9daF",
        "colab": {
          "base_uri": "https://localhost:8080/"
        },
        "outputId": "d27f2589-122b-4459-c6ae-302cd0c7416b"
      },
      "source": [
        "# PREDICTION \n",
        "pred = model.predict(dict(review_tokens))[0]\n",
        "\n",
        "pred = tf.keras.activations.softmax((tf.constant(pred))).numpy() # need to softmax\n",
        "\n",
        "pred"
      ],
      "execution_count": 47,
      "outputs": [
        {
          "output_type": "execute_result",
          "data": {
            "text/plain": [
              "array([[0.23179707, 0.76820296]], dtype=float32)"
            ]
          },
          "metadata": {},
          "execution_count": 47
        }
      ]
    },
    {
      "cell_type": "code",
      "metadata": {
        "id": "oOA8gf5MNOKG",
        "colab": {
          "base_uri": "https://localhost:8080/"
        },
        "outputId": "fe92fd87-9547-42a6-c9c3-66e386396f16"
      },
      "source": [
        "# argmax out the result\n",
        "np.argmax(pred, axis=-1)"
      ],
      "execution_count": 48,
      "outputs": [
        {
          "output_type": "execute_result",
          "data": {
            "text/plain": [
              "array([1])"
            ]
          },
          "metadata": {},
          "execution_count": 48
        }
      ]
    },
    {
      "cell_type": "code",
      "metadata": {
        "id": "i1QNSlayNoiV"
      },
      "source": [
        ""
      ],
      "execution_count": null,
      "outputs": []
    },
    {
      "cell_type": "code",
      "source": [
        ""
      ],
      "metadata": {
        "id": "jehxInDaPV--"
      },
      "execution_count": null,
      "outputs": []
    },
    {
      "cell_type": "code",
      "source": [
        "def get_model_layers(model):\n",
        "    layers_temp = []\n",
        "    layers = []\n",
        "    weights = []\n",
        "    params_total = 0\n",
        "    for layer in model.layers:\n",
        "        type_name = type(layer).__name__\n",
        "        print(layer.name, type_name, layer.count_params())\n",
        "        for i,sub in enumerate(layer.submodules):\n",
        "            if sub.built:\n",
        "                print(i+1, type(sub).__name__, sub.trainable, sub.count_params())\n",
        "        # add params\n",
        "        params_total += layer.count_params()\n",
        "\n",
        "        #get the weights\n",
        "        layer_wb = layer.get_weights()\n",
        "        weights.append(layer_wb)\n",
        "\n",
        "        # the raw weights\n",
        "        layers_temp.append(layer)\n",
        "    print(len(layers_temp))\n",
        "    return layers,layers_temp, params_total\n",
        "\n",
        "get_model_layers(model)"
      ],
      "metadata": {
        "id": "avB69XyOPWHm",
        "colab": {
          "base_uri": "https://localhost:8080/"
        },
        "outputId": "625f5e57-af95-4e0d-c678-9783e0f409f5"
      },
      "execution_count": 49,
      "outputs": [
        {
          "output_type": "stream",
          "name": "stdout",
          "text": [
            "bert TFBertMainLayer 108310272\n",
            "1 TFBertEmbeddings False 22665216\n",
            "2 TFBertEncoder False 85054464\n",
            "3 TFBertPooler False 590592\n",
            "4 LayerNormalization False 1536\n",
            "5 Dropout False 0\n",
            "6 TFBertLayer False 7087872\n",
            "7 TFBertLayer False 7087872\n",
            "8 TFBertLayer False 7087872\n",
            "9 TFBertLayer False 7087872\n",
            "10 TFBertLayer False 7087872\n",
            "11 TFBertLayer False 7087872\n",
            "12 TFBertLayer False 7087872\n",
            "13 TFBertLayer False 7087872\n",
            "14 TFBertLayer False 7087872\n",
            "15 TFBertLayer False 7087872\n",
            "16 TFBertLayer False 7087872\n",
            "17 TFBertLayer False 7087872\n",
            "18 TFBertAttention False 2363904\n",
            "19 TFBertIntermediate False 2362368\n",
            "20 TFBertOutput False 2361600\n",
            "21 TFBertSelfAttention False 1771776\n",
            "22 TFBertSelfOutput False 592128\n",
            "23 Dense False 590592\n",
            "24 Dense False 590592\n",
            "25 Dense False 590592\n",
            "26 Dropout False 0\n",
            "27 LayerNormalization False 1536\n",
            "28 Dense False 590592\n",
            "29 Dropout False 0\n",
            "30 Dense False 2362368\n",
            "31 LayerNormalization False 1536\n",
            "32 Dense False 2360064\n",
            "33 Dropout False 0\n",
            "34 TFBertAttention False 2363904\n",
            "35 TFBertIntermediate False 2362368\n",
            "36 TFBertOutput False 2361600\n",
            "37 TFBertSelfAttention False 1771776\n",
            "38 TFBertSelfOutput False 592128\n",
            "39 Dense False 590592\n",
            "40 Dense False 590592\n",
            "41 Dense False 590592\n",
            "42 Dropout False 0\n",
            "43 LayerNormalization False 1536\n",
            "44 Dense False 590592\n",
            "45 Dropout False 0\n",
            "46 Dense False 2362368\n",
            "47 LayerNormalization False 1536\n",
            "48 Dense False 2360064\n",
            "49 Dropout False 0\n",
            "50 TFBertAttention False 2363904\n",
            "51 TFBertIntermediate False 2362368\n",
            "52 TFBertOutput False 2361600\n",
            "53 TFBertSelfAttention False 1771776\n",
            "54 TFBertSelfOutput False 592128\n",
            "55 Dense False 590592\n",
            "56 Dense False 590592\n",
            "57 Dense False 590592\n",
            "58 Dropout False 0\n",
            "59 LayerNormalization False 1536\n",
            "60 Dense False 590592\n",
            "61 Dropout False 0\n",
            "62 Dense False 2362368\n",
            "63 LayerNormalization False 1536\n",
            "64 Dense False 2360064\n",
            "65 Dropout False 0\n",
            "66 TFBertAttention False 2363904\n",
            "67 TFBertIntermediate False 2362368\n",
            "68 TFBertOutput False 2361600\n",
            "69 TFBertSelfAttention False 1771776\n",
            "70 TFBertSelfOutput False 592128\n",
            "71 Dense False 590592\n",
            "72 Dense False 590592\n",
            "73 Dense False 590592\n",
            "74 Dropout False 0\n",
            "75 LayerNormalization False 1536\n",
            "76 Dense False 590592\n",
            "77 Dropout False 0\n",
            "78 Dense False 2362368\n",
            "79 LayerNormalization False 1536\n",
            "80 Dense False 2360064\n",
            "81 Dropout False 0\n",
            "82 TFBertAttention False 2363904\n",
            "83 TFBertIntermediate False 2362368\n",
            "84 TFBertOutput False 2361600\n",
            "85 TFBertSelfAttention False 1771776\n",
            "86 TFBertSelfOutput False 592128\n",
            "87 Dense False 590592\n",
            "88 Dense False 590592\n",
            "89 Dense False 590592\n",
            "90 Dropout False 0\n",
            "91 LayerNormalization False 1536\n",
            "92 Dense False 590592\n",
            "93 Dropout False 0\n",
            "94 Dense False 2362368\n",
            "95 LayerNormalization False 1536\n",
            "96 Dense False 2360064\n",
            "97 Dropout False 0\n",
            "98 TFBertAttention False 2363904\n",
            "99 TFBertIntermediate False 2362368\n",
            "100 TFBertOutput False 2361600\n",
            "101 TFBertSelfAttention False 1771776\n",
            "102 TFBertSelfOutput False 592128\n",
            "103 Dense False 590592\n",
            "104 Dense False 590592\n",
            "105 Dense False 590592\n",
            "106 Dropout False 0\n",
            "107 LayerNormalization False 1536\n",
            "108 Dense False 590592\n",
            "109 Dropout False 0\n",
            "110 Dense False 2362368\n",
            "111 LayerNormalization False 1536\n",
            "112 Dense False 2360064\n",
            "113 Dropout False 0\n",
            "114 TFBertAttention False 2363904\n",
            "115 TFBertIntermediate False 2362368\n",
            "116 TFBertOutput False 2361600\n",
            "117 TFBertSelfAttention False 1771776\n",
            "118 TFBertSelfOutput False 592128\n",
            "119 Dense False 590592\n",
            "120 Dense False 590592\n",
            "121 Dense False 590592\n",
            "122 Dropout False 0\n",
            "123 LayerNormalization False 1536\n",
            "124 Dense False 590592\n",
            "125 Dropout False 0\n",
            "126 Dense False 2362368\n",
            "127 LayerNormalization False 1536\n",
            "128 Dense False 2360064\n",
            "129 Dropout False 0\n",
            "130 TFBertAttention False 2363904\n",
            "131 TFBertIntermediate False 2362368\n",
            "132 TFBertOutput False 2361600\n",
            "133 TFBertSelfAttention False 1771776\n",
            "134 TFBertSelfOutput False 592128\n",
            "135 Dense False 590592\n",
            "136 Dense False 590592\n",
            "137 Dense False 590592\n",
            "138 Dropout False 0\n",
            "139 LayerNormalization False 1536\n",
            "140 Dense False 590592\n",
            "141 Dropout False 0\n",
            "142 Dense False 2362368\n",
            "143 LayerNormalization False 1536\n",
            "144 Dense False 2360064\n",
            "145 Dropout False 0\n",
            "146 TFBertAttention False 2363904\n",
            "147 TFBertIntermediate False 2362368\n",
            "148 TFBertOutput False 2361600\n",
            "149 TFBertSelfAttention False 1771776\n",
            "150 TFBertSelfOutput False 592128\n",
            "151 Dense False 590592\n",
            "152 Dense False 590592\n",
            "153 Dense False 590592\n",
            "154 Dropout False 0\n",
            "155 LayerNormalization False 1536\n",
            "156 Dense False 590592\n",
            "157 Dropout False 0\n",
            "158 Dense False 2362368\n",
            "159 LayerNormalization False 1536\n",
            "160 Dense False 2360064\n",
            "161 Dropout False 0\n",
            "162 TFBertAttention False 2363904\n",
            "163 TFBertIntermediate False 2362368\n",
            "164 TFBertOutput False 2361600\n",
            "165 TFBertSelfAttention False 1771776\n",
            "166 TFBertSelfOutput False 592128\n",
            "167 Dense False 590592\n",
            "168 Dense False 590592\n",
            "169 Dense False 590592\n",
            "170 Dropout False 0\n",
            "171 LayerNormalization False 1536\n",
            "172 Dense False 590592\n",
            "173 Dropout False 0\n",
            "174 Dense False 2362368\n",
            "175 LayerNormalization False 1536\n",
            "176 Dense False 2360064\n",
            "177 Dropout False 0\n",
            "178 TFBertAttention False 2363904\n",
            "179 TFBertIntermediate False 2362368\n",
            "180 TFBertOutput False 2361600\n",
            "181 TFBertSelfAttention False 1771776\n",
            "182 TFBertSelfOutput False 592128\n",
            "183 Dense False 590592\n",
            "184 Dense False 590592\n",
            "185 Dense False 590592\n",
            "186 Dropout False 0\n",
            "187 LayerNormalization False 1536\n",
            "188 Dense False 590592\n",
            "189 Dropout False 0\n",
            "190 Dense False 2362368\n",
            "191 LayerNormalization False 1536\n",
            "192 Dense False 2360064\n",
            "193 Dropout False 0\n",
            "194 TFBertAttention False 2363904\n",
            "195 TFBertIntermediate False 2362368\n",
            "196 TFBertOutput False 2361600\n",
            "197 TFBertSelfAttention False 1771776\n",
            "198 TFBertSelfOutput False 592128\n",
            "199 Dense False 590592\n",
            "200 Dense False 590592\n",
            "201 Dense False 590592\n",
            "202 Dropout False 0\n",
            "203 LayerNormalization False 1536\n",
            "204 Dense False 590592\n",
            "205 Dropout False 0\n",
            "206 Dense False 2362368\n",
            "207 LayerNormalization False 1536\n",
            "208 Dense False 2360064\n",
            "209 Dropout False 0\n",
            "210 Dense False 590592\n",
            "dropout_37 Dropout 0\n",
            "classifier Dense 1538\n",
            "3\n"
          ]
        },
        {
          "output_type": "execute_result",
          "data": {
            "text/plain": [
              "([],\n",
              " [<transformers.models.bert.modeling_tf_bert.TFBertMainLayer at 0x7f4a47639d10>,\n",
              "  <keras.layers.core.dropout.Dropout at 0x7f4a40b45790>,\n",
              "  <keras.layers.core.dense.Dense at 0x7f4a40b45ad0>],\n",
              " 108311810)"
            ]
          },
          "metadata": {},
          "execution_count": 49
        }
      ]
    }
  ]
}