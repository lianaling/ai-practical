{
 "cells": [
  {
   "cell_type": "markdown",
   "metadata": {},
   "source": [
    "# Question 1"
   ]
  },
  {
   "cell_type": "code",
   "execution_count": 1,
   "metadata": {},
   "outputs": [
    {
     "name": "stdout",
     "output_type": "stream",
     "text": [
      "Volume:  3.141592653589793\n"
     ]
    }
   ],
   "source": [
    "import math\n",
    "\n",
    "def volume(r, h):\n",
    "    return math.pi * pow(r,2) * h\n",
    "\n",
    "\n",
    "r = int(input(\"Enter radius (cm): \"))\n",
    "h = int(input(\"Enter height (cm): \"))\n",
    "\n",
    "print(\"Volume: \", volume(r,h))"
   ]
  },
  {
   "cell_type": "markdown",
   "metadata": {},
   "source": [
    "# Question 2"
   ]
  },
  {
   "cell_type": "code",
   "execution_count": 2,
   "metadata": {},
   "outputs": [
    {
     "name": "stdout",
     "output_type": "stream",
     "text": [
      "[1261, 50] [200, 754]\n",
      "Speed:  1331.5740658214315\n"
     ]
    }
   ],
   "source": [
    "import time\n",
    "import random\n",
    "import math\n",
    "\n",
    "# Screen resolution 1280 * 800\n",
    "# Record start time upon execution\n",
    "start = time.time()\n",
    "\n",
    "# Randomly generate 2 coordinates of mouse pointer\n",
    "first = random.sample(range(0,1280),2)\n",
    "second = random.sample(range(0,800),2)\n",
    "\n",
    "# Record end time\n",
    "end = time.time() + 1\n",
    "\n",
    "print(first, second)\n",
    "\n",
    "dur = end - start\n",
    "\n",
    "# Calculate estimated speed of mouse movement\n",
    "def calculateMouseSpeed(first,second,dur):\n",
    "    x = (first[1] - first[0]) ** 2\n",
    "    y = (second[1] - second[0]) ** 2\n",
    "\n",
    "\n",
    "    dis = math.sqrt(x + y)\n",
    "\n",
    "    return dis / dur\n",
    "\n",
    "print(\"Speed: \", calculateMouseSpeed(first,second,dur))"
   ]
  },
  {
   "cell_type": "markdown",
   "metadata": {},
   "source": [
    "# Question 3"
   ]
  },
  {
   "cell_type": "code",
   "execution_count": 3,
   "metadata": {},
   "outputs": [
    {
     "name": "stdout",
     "output_type": "stream",
     "text": [
      "Average speed:  498.04401555982867\n"
     ]
    }
   ],
   "source": [
    "import time\n",
    "import random\n",
    "import math\n",
    "\n",
    "# Screen resolution 1280 * 800\n",
    "# Record start time upon execution\n",
    "start = time.time()\n",
    "\n",
    "coordinatesList = []\n",
    "\n",
    "# Randomly generate 2 coordinates of mouse pointer 10 times\n",
    "for i in range(10):   \n",
    "    first = random.sample(range(0,1280),2)\n",
    "    second = random.sample(range(0,800),2)\n",
    "    coordinatesList.append(first)\n",
    "    coordinatesList.append(second)\n",
    "    time.sleep(1)\n",
    "\n",
    "# Record end time\n",
    "end = time.time() + 1\n",
    "\n",
    "dur = end - start\n",
    "\n",
    "# Calculate estimated speed of mouse movement\n",
    "def calculateMouseSpeed(coordinatesList,dur):\n",
    "    dis = 0\n",
    "    for i in range (0,20,2):\n",
    "        x = (coordinatesList[i][1] - coordinatesList[i][0]) ** 2\n",
    "        y = (coordinatesList[i+1][1] - coordinatesList[i+1][0]) ** 2\n",
    "        dis += math.sqrt(x + y)  \n",
    "\n",
    "    return dis / dur\n",
    "\n",
    "print(\"Average speed: \", calculateMouseSpeed(coordinatesList,dur))"
   ]
  },
  {
   "cell_type": "markdown",
   "metadata": {},
   "source": [
    "# Question 4\n",
    "\n",
    "Sets are unordered and unchangeable, like a constant for lists.\n",
    "\n",
    "```py\n",
    "answer = ['orange', 'green', 'cyan', 'purple']\n",
    "guess = ['green', 'cyan', 'red', 'purple']\n",
    "\n",
    "for i in range (4):\n",
    "    answer.append(random.choice(CODES))\n",
    "    print(answer[i])\n",
    "```"
   ]
  },
  {
   "cell_type": "code",
   "execution_count": 42,
   "metadata": {},
   "outputs": [
    {
     "name": "stdout",
     "output_type": "stream",
     "text": [
      "['blue', 'cyan', 'red', 'orange']\n",
      "black\n",
      "black\n",
      "black\n",
      "black\n",
      "========================================\n",
      "\n",
      "Answer:  ['blue', 'cyan', 'red', 'orange']\n",
      "Guess:  ['blue', 'cyan', 'red', 'orange']\n",
      "Congrats!\n"
     ]
    }
   ],
   "source": [
    "import random\n",
    "\n",
    "CODES = set(['green', 'cyan', 'red', 'purple', 'blue', 'orange'])\n",
    "CODES = sorted(set(CODES))\n",
    "\n",
    "answer = []\n",
    "is_solved = False\n",
    "repeat = 0\n",
    "\n",
    "answer = random.sample(CODES, 4)\n",
    "\n",
    "# print(answer)\n",
    "\n",
    "solved = 0\n",
    "\n",
    "while (repeat < 10):\n",
    "    guess = []\n",
    "    for i in range (4):\n",
    "        guess.append(input(\"Guess colour \" + str(i+1) + \": \"))\n",
    "\n",
    "    for i, item in list(enumerate(guess)):\n",
    "        if item in answer:\n",
    "            if i == answer.index(item):\n",
    "                print(\"black\")\n",
    "                solved += 1\n",
    "            else:\n",
    "                print(\"white\")\n",
    "                solved = 0\n",
    "\n",
    "    print(\"=\" * 40)\n",
    "    print(\"Answer: \", answer)\n",
    "    print(\"Guess: \", guess)\n",
    "    \n",
    "    if solved == 4:\n",
    "        break\n",
    "\n",
    "print(\"Congrats!\")\n"
   ]
  }
 ],
 "metadata": {
  "interpreter": {
   "hash": "31f2aee4e71d21fbe5cf8b01ff0e069b9275f58929596ceb00d14d90e3e16cd6"
  },
  "kernelspec": {
   "display_name": "Python 3.8.10 64-bit",
   "name": "python3"
  },
  "language_info": {
   "codemirror_mode": {
    "name": "ipython",
    "version": 3
   },
   "file_extension": ".py",
   "mimetype": "text/x-python",
   "name": "python",
   "nbconvert_exporter": "python",
   "pygments_lexer": "ipython3",
   "version": "3.8.10"
  },
  "orig_nbformat": 4
 },
 "nbformat": 4,
 "nbformat_minor": 2
}