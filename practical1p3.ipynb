{
 "cells": [
  {
   "cell_type": "code",
   "execution_count": null,
   "metadata": {},
   "outputs": [],
   "source": []
  },
  {
   "cell_type": "markdown",
   "metadata": {},
   "source": [
    "# Question 1\n",
    "\n",
    "All inputs are accepted as string."
   ]
  },
  {
   "cell_type": "code",
   "execution_count": 3,
   "metadata": {},
   "outputs": [
    {
     "name": "stdout",
     "output_type": "stream",
     "text": [
      "<class 'str'> <class 'str'> <class 'str'> <class 'str'>\n"
     ]
    }
   ],
   "source": [
    "name = input(\"What is your name?\")\n",
    "age = input(\"How old are you?\")\n",
    "height = input(\"How tall are you?\")\n",
    "cgpa = input(\"What is your CGPA?\")\n",
    "\n",
    "print(type(name),type(age), type(height), type(cgpa))"
   ]
  },
  {
   "cell_type": "markdown",
   "metadata": {},
   "source": [
    "# Question 2"
   ]
  },
  {
   "cell_type": "code",
   "execution_count": 5,
   "metadata": {},
   "outputs": [
    {
     "name": "stdout",
     "output_type": "stream",
     "text": [
      "colourless\n"
     ]
    }
   ],
   "source": [
    "s = 'color'\n",
    "s = s[:4] # String slicing\n",
    "s += 'urless' # String concatenation\n",
    "\n",
    "print(s)"
   ]
  },
  {
   "cell_type": "markdown",
   "metadata": {},
   "source": [
    "# Question 3"
   ]
  },
  {
   "cell_type": "code",
   "execution_count": 14,
   "metadata": {},
   "outputs": [
    {
     "name": "stdout",
     "output_type": "stream",
     "text": [
      "The found at index 0\n",
      "The appeared 2 time(s)\n",
      "eBook found at index 80\n",
      "eBook appeared 2 time(s)\n",
      "Program exited successfully.\n"
     ]
    }
   ],
   "source": [
    "f = open('/home/lianaling/Projects/ai-practical/pg2554.txt')\n",
    "\n",
    "rawLocal = f.read(1000)\n",
    "\n",
    "search = \"\"\n",
    "\n",
    "while True:\n",
    "    search = input(\"Search for: \")\n",
    "    if search == \"quit\":\n",
    "        break\n",
    "    i = rawLocal.find(search)\n",
    "    if i == -1:\n",
    "        print(search, \"not found\")\n",
    "    else:\n",
    "        print(search, \"found at index\", i)\n",
    "        print(search, \"appeared\", rawLocal.count(search), \"time(s)\")\n",
    "\n",
    "print(\"Program exited successfully.\")"
   ]
  },
  {
   "cell_type": "markdown",
   "metadata": {},
   "source": [
    "# Question 4\n",
    "Without using string slicing and concatenation."
   ]
  },
  {
   "cell_type": "code",
   "execution_count": 15,
   "metadata": {},
   "outputs": [
    {
     "name": "stdout",
     "output_type": "stream",
     "text": [
      "Python World\n"
     ]
    }
   ],
   "source": [
    "s = 'Hello World'\n",
    "\n",
    "print(s.replace(\"Hello\", \"Python\"))"
   ]
  },
  {
   "cell_type": "markdown",
   "metadata": {},
   "source": [
    "# Question 5"
   ]
  },
  {
   "cell_type": "code",
   "execution_count": 27,
   "metadata": {},
   "outputs": [
    {
     "name": "stdout",
     "output_type": "stream",
     "text": [
      "Bad password\n"
     ]
    }
   ],
   "source": [
    "def password_check(psw):\n",
    "    if len(psw) >= 8 and psw.isalnum() and not psw.islower():\n",
    "        return True\n",
    "    return False\n",
    "\n",
    "psw = input(\"Create a password: \")\n",
    "if password_check(psw):\n",
    "    print(\"Good password\")\n",
    "else:\n",
    "    print(\"Bad password\")"
   ]
  }
 ],
 "metadata": {
  "interpreter": {
   "hash": "31f2aee4e71d21fbe5cf8b01ff0e069b9275f58929596ceb00d14d90e3e16cd6"
  },
  "kernelspec": {
   "display_name": "Python 3.8.10 64-bit",
   "name": "python3"
  },
  "language_info": {
   "codemirror_mode": {
    "name": "ipython",
    "version": 3
   },
   "file_extension": ".py",
   "mimetype": "text/x-python",
   "name": "python",
   "nbconvert_exporter": "python",
   "pygments_lexer": "ipython3",
   "version": "3.8.10"
  },
  "orig_nbformat": 4
 },
 "nbformat": 4,
 "nbformat_minor": 2
}