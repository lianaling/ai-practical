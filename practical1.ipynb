{
 "cells": [
  {
   "cell_type": "markdown",
   "metadata": {},
   "source": [
    "# Question 1"
   ]
  },
  {
   "cell_type": "code",
   "execution_count": 6,
   "metadata": {},
   "outputs": [
    {
     "ename": "ValueError",
     "evalue": "invalid literal for int() with base 10: ''",
     "output_type": "error",
     "traceback": [
      "\u001b[0;31m---------------------------------------------------------------------------\u001b[0m",
      "\u001b[0;31mValueError\u001b[0m                                Traceback (most recent call last)",
      "\u001b[0;32m/tmp/ipykernel_42292/1796688966.py\u001b[0m in \u001b[0;36m<module>\u001b[0;34m\u001b[0m\n\u001b[1;32m      5\u001b[0m \u001b[0;34m\u001b[0m\u001b[0m\n\u001b[1;32m      6\u001b[0m \u001b[0;34m\u001b[0m\u001b[0m\n\u001b[0;32m----> 7\u001b[0;31m \u001b[0mr\u001b[0m \u001b[0;34m=\u001b[0m \u001b[0mint\u001b[0m\u001b[0;34m(\u001b[0m\u001b[0minput\u001b[0m\u001b[0;34m(\u001b[0m\u001b[0;34m\"Enter radius (cm): \"\u001b[0m\u001b[0;34m)\u001b[0m\u001b[0;34m)\u001b[0m\u001b[0;34m\u001b[0m\u001b[0;34m\u001b[0m\u001b[0m\n\u001b[0m\u001b[1;32m      8\u001b[0m \u001b[0mh\u001b[0m \u001b[0;34m=\u001b[0m \u001b[0mint\u001b[0m\u001b[0;34m(\u001b[0m\u001b[0minput\u001b[0m\u001b[0;34m(\u001b[0m\u001b[0;34m\"Enter height (cm): \"\u001b[0m\u001b[0;34m)\u001b[0m\u001b[0;34m)\u001b[0m\u001b[0;34m\u001b[0m\u001b[0;34m\u001b[0m\u001b[0m\n\u001b[1;32m      9\u001b[0m \u001b[0;34m\u001b[0m\u001b[0m\n",
      "\u001b[0;31mValueError\u001b[0m: invalid literal for int() with base 10: ''"
     ]
    }
   ],
   "source": [
    "import math\n",
    "\n",
    "def volume(r, h):\n",
    "    return math.pi * pow(r,2) * h\n",
    "\n",
    "\n",
    "r = int(input(\"Enter radius (cm): \"))\n",
    "h = int(input(\"Enter height (cm): \"))\n",
    "\n",
    "print(\"Volume: \", volume(r,h))"
   ]
  },
  {
   "cell_type": "markdown",
   "metadata": {},
   "source": [
    "# Question 2"
   ]
  },
  {
   "cell_type": "code",
   "execution_count": 11,
   "metadata": {},
   "outputs": [
    {
     "name": "stdout",
     "output_type": "stream",
     "text": [
      "[387, 572] [105, 63]\n",
      "Speed:  189.69681531137982\n"
     ]
    }
   ],
   "source": [
    "import time\n",
    "import random\n",
    "import math\n",
    "\n",
    "# Screen resolution 1280 * 800\n",
    "# Record start time upon execution\n",
    "start = time.time()\n",
    "\n",
    "# Randomly generate 2 coordinates of mouse pointer\n",
    "first = random.sample(range(0,1280),2)\n",
    "second = random.sample(range(0,800),2)\n",
    "\n",
    "# Record end time\n",
    "end = time.time() + 1\n",
    "\n",
    "print(first, second)\n",
    "\n",
    "dur = end - start\n",
    "\n",
    "# Calculate estimated speed of mouse movement\n",
    "def calculateMouseSpeed(first,second,dur):\n",
    "    x = (first[1] - first[0]) ** 2\n",
    "    y = (second[1] - second[0]) ** 2\n",
    "\n",
    "\n",
    "    dis = math.sqrt(x + y)\n",
    "\n",
    "    return dis / dur\n",
    "\n",
    "print(\"Speed: \", calculateMouseSpeed(first,second,dur))"
   ]
  },
  {
   "cell_type": "markdown",
   "metadata": {},
   "source": [
    "# Question 3"
   ]
  },
  {
   "cell_type": "code",
   "execution_count": 14,
   "metadata": {},
   "outputs": [
    {
     "name": "stdout",
     "output_type": "stream",
     "text": [
      "Average speed:  366.5768882470519\n"
     ]
    }
   ],
   "source": [
    "import time\n",
    "import random\n",
    "import math\n",
    "\n",
    "# Screen resolution 1280 * 800\n",
    "# Record start time upon execution\n",
    "start = time.time()\n",
    "\n",
    "coordinatesList = []\n",
    "\n",
    "# Randomly generate 2 coordinates of mouse pointer 10 times\n",
    "for i in range(10):   \n",
    "    first = random.sample(range(0,1280),2)\n",
    "    second = random.sample(range(0,800),2)\n",
    "    coordinatesList.append(first)\n",
    "    coordinatesList.append(second)\n",
    "    time.sleep(1)\n",
    "\n",
    "# Record end time\n",
    "end = time.time() + 1\n",
    "\n",
    "dur = end - start\n",
    "\n",
    "# Calculate estimated speed of mouse movement\n",
    "def calculateMouseSpeed(coordinatesList,dur):\n",
    "    dis = 0\n",
    "    for i in range (0,20,2):\n",
    "        x = (coordinatesList[i][1] - coordinatesList[i][0]) ** 2\n",
    "        y = (coordinatesList[i+1][1] - coordinatesList[i+1][0]) ** 2\n",
    "        dis += math.sqrt(x + y)  \n",
    "\n",
    "    return dis / dur\n",
    "\n",
    "print(\"Average speed: \", calculateMouseSpeed(coordinatesList,dur))"
   ]
  }
 ],
 "metadata": {
  "interpreter": {
   "hash": "31f2aee4e71d21fbe5cf8b01ff0e069b9275f58929596ceb00d14d90e3e16cd6"
  },
  "kernelspec": {
   "display_name": "Python 3.8.5 64-bit",
   "name": "python3"
  },
  "language_info": {
   "codemirror_mode": {
    "name": "ipython",
    "version": 3
   },
   "file_extension": ".py",
   "mimetype": "text/x-python",
   "name": "python",
   "nbconvert_exporter": "python",
   "pygments_lexer": "ipython3",
   "version": "3.8.5"
  },
  "orig_nbformat": 4
 },
 "nbformat": 4,
 "nbformat_minor": 2
}